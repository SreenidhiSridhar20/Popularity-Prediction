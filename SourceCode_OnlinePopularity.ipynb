{
 "cells": [
  {
   "cell_type": "markdown",
   "id": "ab07b766",
   "metadata": {},
   "source": [
    "<center><h1>MGIS650 Introduction to Data Analytics and Business Intelligence</h1></center>\n",
    "<center><h3>Project 03 by Sreenidhi Sridhar</h3></center>\n"
   ]
  },
  {
   "cell_type": "markdown",
   "id": "32d26693",
   "metadata": {},
   "source": [
    "<center><h2>News Article Popularity Prediction</h2></center>\n",
    "<p><B>Description:</B> This is a binary classification problem where the popularity of the article is based on number of shares. The dataset is consisted of 39,643 news articles from an online news website called Mashable collected over 2 years from Jan2013 to Jan2015.</p>"
   ]
  },
  {
   "cell_type": "code",
   "execution_count": 1,
   "id": "6a73a26b",
   "metadata": {},
   "outputs": [],
   "source": [
    "# importing necessary libraries\n",
    "import numpy as np\n",
    "import pandas as pd\n",
    "\n",
    "#pre-processing\n",
    "from sklearn import preprocessing\n",
    "from sklearn.preprocessing import MinMaxScaler\n",
    "\n",
    "#modelling\n",
    "from sklearn.model_selection import train_test_split\n",
    "from sklearn.linear_model import LogisticRegression\n",
    "from sklearn.ensemble import RandomForestClassifier\n",
    "\n",
    "#feature selection\n",
    "from sklearn.feature_selection import RFECV\n",
    "\n",
    "#results\n",
    "from sklearn.metrics import accuracy_score, fbeta_score, roc_curve, auc, roc_auc_score\n",
    "\n",
    "#confusion matrix\n",
    "from sklearn.metrics import confusion_matrix\n",
    "\n",
    "#plotting\n",
    "import seaborn as sns\n",
    "\n",
    "#GridSearch\n",
    "from sklearn.metrics import make_scorer \n",
    "from sklearn.model_selection import GridSearchCV"
   ]
  },
  {
   "cell_type": "markdown",
   "id": "2087ad8d",
   "metadata": {},
   "source": [
    "<b>Step-1:</b> Loading the dataset!"
   ]
  },
  {
   "cell_type": "code",
   "execution_count": 2,
   "id": "703acef8",
   "metadata": {},
   "outputs": [
    {
     "data": {
      "text/html": [
       "<div>\n",
       "<style scoped>\n",
       "    .dataframe tbody tr th:only-of-type {\n",
       "        vertical-align: middle;\n",
       "    }\n",
       "\n",
       "    .dataframe tbody tr th {\n",
       "        vertical-align: top;\n",
       "    }\n",
       "\n",
       "    .dataframe thead th {\n",
       "        text-align: right;\n",
       "    }\n",
       "</style>\n",
       "<table border=\"1\" class=\"dataframe\">\n",
       "  <thead>\n",
       "    <tr style=\"text-align: right;\">\n",
       "      <th></th>\n",
       "      <th>url</th>\n",
       "      <th>timedelta</th>\n",
       "      <th>n_tokens_title</th>\n",
       "      <th>n_tokens_content</th>\n",
       "      <th>n_unique_tokens</th>\n",
       "      <th>n_non_stop_words</th>\n",
       "      <th>n_non_stop_unique_tokens</th>\n",
       "      <th>num_hrefs</th>\n",
       "      <th>num_self_hrefs</th>\n",
       "      <th>num_imgs</th>\n",
       "      <th>...</th>\n",
       "      <th>min_positive_polarity</th>\n",
       "      <th>max_positive_polarity</th>\n",
       "      <th>avg_negative_polarity</th>\n",
       "      <th>min_negative_polarity</th>\n",
       "      <th>max_negative_polarity</th>\n",
       "      <th>title_subjectivity</th>\n",
       "      <th>title_sentiment_polarity</th>\n",
       "      <th>abs_title_subjectivity</th>\n",
       "      <th>abs_title_sentiment_polarity</th>\n",
       "      <th>shares</th>\n",
       "    </tr>\n",
       "  </thead>\n",
       "  <tbody>\n",
       "    <tr>\n",
       "      <th>0</th>\n",
       "      <td>http://mashable.com/2013/01/07/amazon-instant-...</td>\n",
       "      <td>731.0</td>\n",
       "      <td>12.0</td>\n",
       "      <td>219.0</td>\n",
       "      <td>0.663594</td>\n",
       "      <td>1.0</td>\n",
       "      <td>0.815385</td>\n",
       "      <td>4.0</td>\n",
       "      <td>2.0</td>\n",
       "      <td>1.0</td>\n",
       "      <td>...</td>\n",
       "      <td>0.100000</td>\n",
       "      <td>0.7</td>\n",
       "      <td>-0.350000</td>\n",
       "      <td>-0.600</td>\n",
       "      <td>-0.200000</td>\n",
       "      <td>0.500000</td>\n",
       "      <td>-0.187500</td>\n",
       "      <td>0.000000</td>\n",
       "      <td>0.187500</td>\n",
       "      <td>593</td>\n",
       "    </tr>\n",
       "    <tr>\n",
       "      <th>1</th>\n",
       "      <td>http://mashable.com/2013/01/07/ap-samsung-spon...</td>\n",
       "      <td>731.0</td>\n",
       "      <td>9.0</td>\n",
       "      <td>255.0</td>\n",
       "      <td>0.604743</td>\n",
       "      <td>1.0</td>\n",
       "      <td>0.791946</td>\n",
       "      <td>3.0</td>\n",
       "      <td>1.0</td>\n",
       "      <td>1.0</td>\n",
       "      <td>...</td>\n",
       "      <td>0.033333</td>\n",
       "      <td>0.7</td>\n",
       "      <td>-0.118750</td>\n",
       "      <td>-0.125</td>\n",
       "      <td>-0.100000</td>\n",
       "      <td>0.000000</td>\n",
       "      <td>0.000000</td>\n",
       "      <td>0.500000</td>\n",
       "      <td>0.000000</td>\n",
       "      <td>711</td>\n",
       "    </tr>\n",
       "    <tr>\n",
       "      <th>2</th>\n",
       "      <td>http://mashable.com/2013/01/07/apple-40-billio...</td>\n",
       "      <td>731.0</td>\n",
       "      <td>9.0</td>\n",
       "      <td>211.0</td>\n",
       "      <td>0.575130</td>\n",
       "      <td>1.0</td>\n",
       "      <td>0.663866</td>\n",
       "      <td>3.0</td>\n",
       "      <td>1.0</td>\n",
       "      <td>1.0</td>\n",
       "      <td>...</td>\n",
       "      <td>0.100000</td>\n",
       "      <td>1.0</td>\n",
       "      <td>-0.466667</td>\n",
       "      <td>-0.800</td>\n",
       "      <td>-0.133333</td>\n",
       "      <td>0.000000</td>\n",
       "      <td>0.000000</td>\n",
       "      <td>0.500000</td>\n",
       "      <td>0.000000</td>\n",
       "      <td>1500</td>\n",
       "    </tr>\n",
       "    <tr>\n",
       "      <th>3</th>\n",
       "      <td>http://mashable.com/2013/01/07/astronaut-notre...</td>\n",
       "      <td>731.0</td>\n",
       "      <td>9.0</td>\n",
       "      <td>531.0</td>\n",
       "      <td>0.503788</td>\n",
       "      <td>1.0</td>\n",
       "      <td>0.665635</td>\n",
       "      <td>9.0</td>\n",
       "      <td>0.0</td>\n",
       "      <td>1.0</td>\n",
       "      <td>...</td>\n",
       "      <td>0.136364</td>\n",
       "      <td>0.8</td>\n",
       "      <td>-0.369697</td>\n",
       "      <td>-0.600</td>\n",
       "      <td>-0.166667</td>\n",
       "      <td>0.000000</td>\n",
       "      <td>0.000000</td>\n",
       "      <td>0.500000</td>\n",
       "      <td>0.000000</td>\n",
       "      <td>1200</td>\n",
       "    </tr>\n",
       "    <tr>\n",
       "      <th>4</th>\n",
       "      <td>http://mashable.com/2013/01/07/att-u-verse-apps/</td>\n",
       "      <td>731.0</td>\n",
       "      <td>13.0</td>\n",
       "      <td>1072.0</td>\n",
       "      <td>0.415646</td>\n",
       "      <td>1.0</td>\n",
       "      <td>0.540890</td>\n",
       "      <td>19.0</td>\n",
       "      <td>19.0</td>\n",
       "      <td>20.0</td>\n",
       "      <td>...</td>\n",
       "      <td>0.033333</td>\n",
       "      <td>1.0</td>\n",
       "      <td>-0.220192</td>\n",
       "      <td>-0.500</td>\n",
       "      <td>-0.050000</td>\n",
       "      <td>0.454545</td>\n",
       "      <td>0.136364</td>\n",
       "      <td>0.045455</td>\n",
       "      <td>0.136364</td>\n",
       "      <td>505</td>\n",
       "    </tr>\n",
       "  </tbody>\n",
       "</table>\n",
       "<p>5 rows × 61 columns</p>\n",
       "</div>"
      ],
      "text/plain": [
       "                                                 url   timedelta  \\\n",
       "0  http://mashable.com/2013/01/07/amazon-instant-...       731.0   \n",
       "1  http://mashable.com/2013/01/07/ap-samsung-spon...       731.0   \n",
       "2  http://mashable.com/2013/01/07/apple-40-billio...       731.0   \n",
       "3  http://mashable.com/2013/01/07/astronaut-notre...       731.0   \n",
       "4   http://mashable.com/2013/01/07/att-u-verse-apps/       731.0   \n",
       "\n",
       "    n_tokens_title   n_tokens_content   n_unique_tokens   n_non_stop_words  \\\n",
       "0             12.0              219.0          0.663594                1.0   \n",
       "1              9.0              255.0          0.604743                1.0   \n",
       "2              9.0              211.0          0.575130                1.0   \n",
       "3              9.0              531.0          0.503788                1.0   \n",
       "4             13.0             1072.0          0.415646                1.0   \n",
       "\n",
       "    n_non_stop_unique_tokens   num_hrefs   num_self_hrefs   num_imgs  ...  \\\n",
       "0                   0.815385         4.0              2.0        1.0  ...   \n",
       "1                   0.791946         3.0              1.0        1.0  ...   \n",
       "2                   0.663866         3.0              1.0        1.0  ...   \n",
       "3                   0.665635         9.0              0.0        1.0  ...   \n",
       "4                   0.540890        19.0             19.0       20.0  ...   \n",
       "\n",
       "    min_positive_polarity   max_positive_polarity   avg_negative_polarity  \\\n",
       "0                0.100000                     0.7               -0.350000   \n",
       "1                0.033333                     0.7               -0.118750   \n",
       "2                0.100000                     1.0               -0.466667   \n",
       "3                0.136364                     0.8               -0.369697   \n",
       "4                0.033333                     1.0               -0.220192   \n",
       "\n",
       "    min_negative_polarity   max_negative_polarity   title_subjectivity  \\\n",
       "0                  -0.600               -0.200000             0.500000   \n",
       "1                  -0.125               -0.100000             0.000000   \n",
       "2                  -0.800               -0.133333             0.000000   \n",
       "3                  -0.600               -0.166667             0.000000   \n",
       "4                  -0.500               -0.050000             0.454545   \n",
       "\n",
       "    title_sentiment_polarity   abs_title_subjectivity  \\\n",
       "0                  -0.187500                 0.000000   \n",
       "1                   0.000000                 0.500000   \n",
       "2                   0.000000                 0.500000   \n",
       "3                   0.000000                 0.500000   \n",
       "4                   0.136364                 0.045455   \n",
       "\n",
       "    abs_title_sentiment_polarity   shares  \n",
       "0                       0.187500      593  \n",
       "1                       0.000000      711  \n",
       "2                       0.000000     1500  \n",
       "3                       0.000000     1200  \n",
       "4                       0.136364      505  \n",
       "\n",
       "[5 rows x 61 columns]"
      ]
     },
     "metadata": {},
     "output_type": "display_data"
    }
   ],
   "source": [
    "# Load the online news dataset\n",
    "df = pd.read_csv(\"OnlineNewsPopularity.csv\")\n",
    "display(df.head())"
   ]
  },
  {
   "cell_type": "code",
   "execution_count": 3,
   "id": "feff6687",
   "metadata": {},
   "outputs": [
    {
     "data": {
      "text/plain": [
       "count     39644.000000\n",
       "mean       3395.380184\n",
       "std       11626.950749\n",
       "min           1.000000\n",
       "25%         946.000000\n",
       "50%        1400.000000\n",
       "75%        2800.000000\n",
       "max      843300.000000\n",
       "Name:  shares, dtype: float64"
      ]
     },
     "execution_count": 3,
     "metadata": {},
     "output_type": "execute_result"
    }
   ],
   "source": [
    "#statistics of original target attribute\n",
    "popularity_orig = df[df.keys()[-1]]\n",
    "popularity_orig.describe()"
   ]
  },
  {
   "cell_type": "markdown",
   "id": "68eca605",
   "metadata": {},
   "source": [
    "<b>Step-2:</b> Pre-processing the data.\n",
    "<ul><li>Label Encoding</li><li>Drop unnecessary attributes</li><li>Normalizing</li></ul>"
   ]
  },
  {
   "cell_type": "code",
   "execution_count": 4,
   "id": "254e7f1b",
   "metadata": {},
   "outputs": [],
   "source": [
    "# Encode the label by threshold 1400 (50%)\n",
    "label_encoder = preprocessing.LabelEncoder()\n",
    "popularity_encod = pd.Series(label_encoder.fit_transform(popularity_orig>=1400))"
   ]
  },
  {
   "cell_type": "code",
   "execution_count": 5,
   "id": "c83b7e96",
   "metadata": {},
   "outputs": [
    {
     "data": {
      "text/html": [
       "<div>\n",
       "<style scoped>\n",
       "    .dataframe tbody tr th:only-of-type {\n",
       "        vertical-align: middle;\n",
       "    }\n",
       "\n",
       "    .dataframe tbody tr th {\n",
       "        vertical-align: top;\n",
       "    }\n",
       "\n",
       "    .dataframe thead th {\n",
       "        text-align: right;\n",
       "    }\n",
       "</style>\n",
       "<table border=\"1\" class=\"dataframe\">\n",
       "  <thead>\n",
       "    <tr style=\"text-align: right;\">\n",
       "      <th></th>\n",
       "      <th>n_tokens_title</th>\n",
       "      <th>n_tokens_content</th>\n",
       "      <th>n_unique_tokens</th>\n",
       "      <th>n_non_stop_words</th>\n",
       "      <th>n_non_stop_unique_tokens</th>\n",
       "      <th>num_hrefs</th>\n",
       "      <th>num_self_hrefs</th>\n",
       "      <th>num_imgs</th>\n",
       "      <th>num_videos</th>\n",
       "      <th>average_token_length</th>\n",
       "      <th>...</th>\n",
       "      <th>avg_positive_polarity</th>\n",
       "      <th>min_positive_polarity</th>\n",
       "      <th>max_positive_polarity</th>\n",
       "      <th>avg_negative_polarity</th>\n",
       "      <th>min_negative_polarity</th>\n",
       "      <th>max_negative_polarity</th>\n",
       "      <th>title_subjectivity</th>\n",
       "      <th>title_sentiment_polarity</th>\n",
       "      <th>abs_title_subjectivity</th>\n",
       "      <th>abs_title_sentiment_polarity</th>\n",
       "    </tr>\n",
       "  </thead>\n",
       "  <tbody>\n",
       "    <tr>\n",
       "      <th>0</th>\n",
       "      <td>12.0</td>\n",
       "      <td>219.0</td>\n",
       "      <td>0.663594</td>\n",
       "      <td>1.0</td>\n",
       "      <td>0.815385</td>\n",
       "      <td>4.0</td>\n",
       "      <td>2.0</td>\n",
       "      <td>1.0</td>\n",
       "      <td>0.0</td>\n",
       "      <td>4.680365</td>\n",
       "      <td>...</td>\n",
       "      <td>0.378636</td>\n",
       "      <td>0.100000</td>\n",
       "      <td>0.7</td>\n",
       "      <td>-0.350000</td>\n",
       "      <td>-0.600</td>\n",
       "      <td>-0.200000</td>\n",
       "      <td>0.500000</td>\n",
       "      <td>-0.187500</td>\n",
       "      <td>0.000000</td>\n",
       "      <td>0.187500</td>\n",
       "    </tr>\n",
       "    <tr>\n",
       "      <th>1</th>\n",
       "      <td>9.0</td>\n",
       "      <td>255.0</td>\n",
       "      <td>0.604743</td>\n",
       "      <td>1.0</td>\n",
       "      <td>0.791946</td>\n",
       "      <td>3.0</td>\n",
       "      <td>1.0</td>\n",
       "      <td>1.0</td>\n",
       "      <td>0.0</td>\n",
       "      <td>4.913725</td>\n",
       "      <td>...</td>\n",
       "      <td>0.286915</td>\n",
       "      <td>0.033333</td>\n",
       "      <td>0.7</td>\n",
       "      <td>-0.118750</td>\n",
       "      <td>-0.125</td>\n",
       "      <td>-0.100000</td>\n",
       "      <td>0.000000</td>\n",
       "      <td>0.000000</td>\n",
       "      <td>0.500000</td>\n",
       "      <td>0.000000</td>\n",
       "    </tr>\n",
       "    <tr>\n",
       "      <th>2</th>\n",
       "      <td>9.0</td>\n",
       "      <td>211.0</td>\n",
       "      <td>0.575130</td>\n",
       "      <td>1.0</td>\n",
       "      <td>0.663866</td>\n",
       "      <td>3.0</td>\n",
       "      <td>1.0</td>\n",
       "      <td>1.0</td>\n",
       "      <td>0.0</td>\n",
       "      <td>4.393365</td>\n",
       "      <td>...</td>\n",
       "      <td>0.495833</td>\n",
       "      <td>0.100000</td>\n",
       "      <td>1.0</td>\n",
       "      <td>-0.466667</td>\n",
       "      <td>-0.800</td>\n",
       "      <td>-0.133333</td>\n",
       "      <td>0.000000</td>\n",
       "      <td>0.000000</td>\n",
       "      <td>0.500000</td>\n",
       "      <td>0.000000</td>\n",
       "    </tr>\n",
       "    <tr>\n",
       "      <th>3</th>\n",
       "      <td>9.0</td>\n",
       "      <td>531.0</td>\n",
       "      <td>0.503788</td>\n",
       "      <td>1.0</td>\n",
       "      <td>0.665635</td>\n",
       "      <td>9.0</td>\n",
       "      <td>0.0</td>\n",
       "      <td>1.0</td>\n",
       "      <td>0.0</td>\n",
       "      <td>4.404896</td>\n",
       "      <td>...</td>\n",
       "      <td>0.385965</td>\n",
       "      <td>0.136364</td>\n",
       "      <td>0.8</td>\n",
       "      <td>-0.369697</td>\n",
       "      <td>-0.600</td>\n",
       "      <td>-0.166667</td>\n",
       "      <td>0.000000</td>\n",
       "      <td>0.000000</td>\n",
       "      <td>0.500000</td>\n",
       "      <td>0.000000</td>\n",
       "    </tr>\n",
       "    <tr>\n",
       "      <th>4</th>\n",
       "      <td>13.0</td>\n",
       "      <td>1072.0</td>\n",
       "      <td>0.415646</td>\n",
       "      <td>1.0</td>\n",
       "      <td>0.540890</td>\n",
       "      <td>19.0</td>\n",
       "      <td>19.0</td>\n",
       "      <td>20.0</td>\n",
       "      <td>0.0</td>\n",
       "      <td>4.682836</td>\n",
       "      <td>...</td>\n",
       "      <td>0.411127</td>\n",
       "      <td>0.033333</td>\n",
       "      <td>1.0</td>\n",
       "      <td>-0.220192</td>\n",
       "      <td>-0.500</td>\n",
       "      <td>-0.050000</td>\n",
       "      <td>0.454545</td>\n",
       "      <td>0.136364</td>\n",
       "      <td>0.045455</td>\n",
       "      <td>0.136364</td>\n",
       "    </tr>\n",
       "  </tbody>\n",
       "</table>\n",
       "<p>5 rows × 58 columns</p>\n",
       "</div>"
      ],
      "text/plain": [
       "    n_tokens_title   n_tokens_content   n_unique_tokens   n_non_stop_words  \\\n",
       "0             12.0              219.0          0.663594                1.0   \n",
       "1              9.0              255.0          0.604743                1.0   \n",
       "2              9.0              211.0          0.575130                1.0   \n",
       "3              9.0              531.0          0.503788                1.0   \n",
       "4             13.0             1072.0          0.415646                1.0   \n",
       "\n",
       "    n_non_stop_unique_tokens   num_hrefs   num_self_hrefs   num_imgs  \\\n",
       "0                   0.815385         4.0              2.0        1.0   \n",
       "1                   0.791946         3.0              1.0        1.0   \n",
       "2                   0.663866         3.0              1.0        1.0   \n",
       "3                   0.665635         9.0              0.0        1.0   \n",
       "4                   0.540890        19.0             19.0       20.0   \n",
       "\n",
       "    num_videos   average_token_length  ...   avg_positive_polarity  \\\n",
       "0          0.0               4.680365  ...                0.378636   \n",
       "1          0.0               4.913725  ...                0.286915   \n",
       "2          0.0               4.393365  ...                0.495833   \n",
       "3          0.0               4.404896  ...                0.385965   \n",
       "4          0.0               4.682836  ...                0.411127   \n",
       "\n",
       "    min_positive_polarity   max_positive_polarity   avg_negative_polarity  \\\n",
       "0                0.100000                     0.7               -0.350000   \n",
       "1                0.033333                     0.7               -0.118750   \n",
       "2                0.100000                     1.0               -0.466667   \n",
       "3                0.136364                     0.8               -0.369697   \n",
       "4                0.033333                     1.0               -0.220192   \n",
       "\n",
       "    min_negative_polarity   max_negative_polarity   title_subjectivity  \\\n",
       "0                  -0.600               -0.200000             0.500000   \n",
       "1                  -0.125               -0.100000             0.000000   \n",
       "2                  -0.800               -0.133333             0.000000   \n",
       "3                  -0.600               -0.166667             0.000000   \n",
       "4                  -0.500               -0.050000             0.454545   \n",
       "\n",
       "    title_sentiment_polarity   abs_title_subjectivity  \\\n",
       "0                  -0.187500                 0.000000   \n",
       "1                   0.000000                 0.500000   \n",
       "2                   0.000000                 0.500000   \n",
       "3                   0.000000                 0.500000   \n",
       "4                   0.136364                 0.045455   \n",
       "\n",
       "    abs_title_sentiment_polarity  \n",
       "0                       0.187500  \n",
       "1                       0.000000  \n",
       "2                       0.000000  \n",
       "3                       0.000000  \n",
       "4                       0.136364  \n",
       "\n",
       "[5 rows x 58 columns]"
      ]
     },
     "metadata": {},
     "output_type": "display_data"
    }
   ],
   "source": [
    "# Get the features from dataset and eliminating first two attributes because they are not required to determine popularity.\n",
    "#Also, the last variable because it is the target variable.\n",
    "features_orig = df.drop(['url',df.keys()[1],df.keys()[-1]], axis=1)\n",
    "display(features_orig.head())"
   ]
  },
  {
   "cell_type": "code",
   "execution_count": 6,
   "id": "28128baa",
   "metadata": {},
   "outputs": [
    {
     "data": {
      "text/html": [
       "<div>\n",
       "<style scoped>\n",
       "    .dataframe tbody tr th:only-of-type {\n",
       "        vertical-align: middle;\n",
       "    }\n",
       "\n",
       "    .dataframe tbody tr th {\n",
       "        vertical-align: top;\n",
       "    }\n",
       "\n",
       "    .dataframe thead th {\n",
       "        text-align: right;\n",
       "    }\n",
       "</style>\n",
       "<table border=\"1\" class=\"dataframe\">\n",
       "  <thead>\n",
       "    <tr style=\"text-align: right;\">\n",
       "      <th></th>\n",
       "      <th>n_tokens_title</th>\n",
       "      <th>n_tokens_content</th>\n",
       "      <th>n_unique_tokens</th>\n",
       "      <th>n_non_stop_words</th>\n",
       "      <th>n_non_stop_unique_tokens</th>\n",
       "      <th>num_hrefs</th>\n",
       "      <th>num_self_hrefs</th>\n",
       "      <th>num_imgs</th>\n",
       "      <th>num_videos</th>\n",
       "      <th>average_token_length</th>\n",
       "      <th>...</th>\n",
       "      <th>avg_positive_polarity</th>\n",
       "      <th>min_positive_polarity</th>\n",
       "      <th>max_positive_polarity</th>\n",
       "      <th>avg_negative_polarity</th>\n",
       "      <th>min_negative_polarity</th>\n",
       "      <th>max_negative_polarity</th>\n",
       "      <th>title_subjectivity</th>\n",
       "      <th>title_sentiment_polarity</th>\n",
       "      <th>abs_title_subjectivity</th>\n",
       "      <th>abs_title_sentiment_polarity</th>\n",
       "    </tr>\n",
       "  </thead>\n",
       "  <tbody>\n",
       "    <tr>\n",
       "      <th>0</th>\n",
       "      <td>0.476190</td>\n",
       "      <td>0.025844</td>\n",
       "      <td>0.663594</td>\n",
       "      <td>1.0</td>\n",
       "      <td>0.815385</td>\n",
       "      <td>0.013158</td>\n",
       "      <td>0.017241</td>\n",
       "      <td>0.007812</td>\n",
       "      <td>0.0</td>\n",
       "      <td>0.582024</td>\n",
       "      <td>...</td>\n",
       "      <td>0.378636</td>\n",
       "      <td>0.100000</td>\n",
       "      <td>0.7</td>\n",
       "      <td>-0.350000</td>\n",
       "      <td>-0.600</td>\n",
       "      <td>-0.200000</td>\n",
       "      <td>0.5</td>\n",
       "      <td>-0.1875</td>\n",
       "      <td>0.0</td>\n",
       "      <td>0.1875</td>\n",
       "    </tr>\n",
       "    <tr>\n",
       "      <th>1</th>\n",
       "      <td>0.333333</td>\n",
       "      <td>0.030092</td>\n",
       "      <td>0.604743</td>\n",
       "      <td>1.0</td>\n",
       "      <td>0.791946</td>\n",
       "      <td>0.009868</td>\n",
       "      <td>0.008621</td>\n",
       "      <td>0.007812</td>\n",
       "      <td>0.0</td>\n",
       "      <td>0.611043</td>\n",
       "      <td>...</td>\n",
       "      <td>0.286915</td>\n",
       "      <td>0.033333</td>\n",
       "      <td>0.7</td>\n",
       "      <td>-0.118750</td>\n",
       "      <td>-0.125</td>\n",
       "      <td>-0.100000</td>\n",
       "      <td>0.0</td>\n",
       "      <td>0.0000</td>\n",
       "      <td>0.5</td>\n",
       "      <td>0.0000</td>\n",
       "    </tr>\n",
       "    <tr>\n",
       "      <th>2</th>\n",
       "      <td>0.333333</td>\n",
       "      <td>0.024900</td>\n",
       "      <td>0.575130</td>\n",
       "      <td>1.0</td>\n",
       "      <td>0.663866</td>\n",
       "      <td>0.009868</td>\n",
       "      <td>0.008621</td>\n",
       "      <td>0.007812</td>\n",
       "      <td>0.0</td>\n",
       "      <td>0.546334</td>\n",
       "      <td>...</td>\n",
       "      <td>0.495833</td>\n",
       "      <td>0.100000</td>\n",
       "      <td>1.0</td>\n",
       "      <td>-0.466667</td>\n",
       "      <td>-0.800</td>\n",
       "      <td>-0.133333</td>\n",
       "      <td>0.0</td>\n",
       "      <td>0.0000</td>\n",
       "      <td>0.5</td>\n",
       "      <td>0.0000</td>\n",
       "    </tr>\n",
       "  </tbody>\n",
       "</table>\n",
       "<p>3 rows × 58 columns</p>\n",
       "</div>"
      ],
      "text/plain": [
       "    n_tokens_title   n_tokens_content   n_unique_tokens   n_non_stop_words  \\\n",
       "0         0.476190           0.025844          0.663594                1.0   \n",
       "1         0.333333           0.030092          0.604743                1.0   \n",
       "2         0.333333           0.024900          0.575130                1.0   \n",
       "\n",
       "    n_non_stop_unique_tokens   num_hrefs   num_self_hrefs   num_imgs  \\\n",
       "0                   0.815385    0.013158         0.017241   0.007812   \n",
       "1                   0.791946    0.009868         0.008621   0.007812   \n",
       "2                   0.663866    0.009868         0.008621   0.007812   \n",
       "\n",
       "    num_videos   average_token_length  ...   avg_positive_polarity  \\\n",
       "0          0.0               0.582024  ...                0.378636   \n",
       "1          0.0               0.611043  ...                0.286915   \n",
       "2          0.0               0.546334  ...                0.495833   \n",
       "\n",
       "    min_positive_polarity   max_positive_polarity   avg_negative_polarity  \\\n",
       "0                0.100000                     0.7               -0.350000   \n",
       "1                0.033333                     0.7               -0.118750   \n",
       "2                0.100000                     1.0               -0.466667   \n",
       "\n",
       "    min_negative_polarity   max_negative_polarity   title_subjectivity  \\\n",
       "0                  -0.600               -0.200000                  0.5   \n",
       "1                  -0.125               -0.100000                  0.0   \n",
       "2                  -0.800               -0.133333                  0.0   \n",
       "\n",
       "    title_sentiment_polarity   abs_title_subjectivity  \\\n",
       "0                    -0.1875                      0.0   \n",
       "1                     0.0000                      0.5   \n",
       "2                     0.0000                      0.5   \n",
       "\n",
       "    abs_title_sentiment_polarity  \n",
       "0                         0.1875  \n",
       "1                         0.0000  \n",
       "2                         0.0000  \n",
       "\n",
       "[3 rows x 58 columns]"
      ]
     },
     "metadata": {},
     "output_type": "display_data"
    }
   ],
   "source": [
    "# Normalize the numerical features\n",
    "scaler = MinMaxScaler()\n",
    "numerical_var = [' n_tokens_title', ' n_tokens_content', ' num_hrefs', ' num_self_hrefs', ' num_imgs',' num_videos',\\\n",
    "            ' average_token_length',' num_keywords',' self_reference_min_shares',' self_reference_max_shares',\\\n",
    "             ' self_reference_avg_sharess']\n",
    "features_orig[numerical_var] = scaler.fit_transform(df[numerical_var])\n",
    "display(features_orig.head(n = 3))"
   ]
  },
  {
   "cell_type": "markdown",
   "id": "43a0e1af",
   "metadata": {},
   "source": [
    "<b>Step-3:</b> Feature Selection\n",
    "<p><B>Description:</B> Feature selection using RFECV for each model which is the short form of Recursive feature elimination with cross-validation to select the number of features.</p>"
   ]
  },
  {
   "cell_type": "code",
   "execution_count": 7,
   "id": "946c1f34",
   "metadata": {},
   "outputs": [
    {
     "data": {
      "text/plain": [
       "'Number of features selected for Logistic Regression: '"
      ]
     },
     "metadata": {},
     "output_type": "display_data"
    },
    {
     "name": "stdout",
     "output_type": "stream",
     "text": [
      "5\n"
     ]
    },
    {
     "data": {
      "text/plain": [
       "'Selected Features for Logistic Regression are: '"
      ]
     },
     "metadata": {},
     "output_type": "display_data"
    },
    {
     "name": "stdout",
     "output_type": "stream",
     "text": [
      "[' data_channel_is_entertainment' ' data_channel_is_tech'\n",
      " ' data_channel_is_world' ' is_weekend' ' LDA_02']\n"
     ]
    }
   ],
   "source": [
    "# Feature selection by RFECV for Logistic Regression\n",
    "estimator_LR = LogisticRegression(random_state=0,max_iter=500)\n",
    "selector_LR = RFECV(estimator_LR, step=1, cv=5)\n",
    "selector_LR = selector_LR.fit(features_orig, popularity_encod)\n",
    "display(\"Number of features selected for Logistic Regression: \")\n",
    "print(features_orig.columns.values[selector_LR.ranking_==1].shape[0])\n",
    "display(\"Selected Features for Logistic Regression are: \")\n",
    "print(features_orig.columns.values[selector_LR.ranking_==1])\n",
    "feature_selec_LR = features_orig[features_orig.columns.values[selector_LR.ranking_==1]]"
   ]
  },
  {
   "cell_type": "code",
   "execution_count": 8,
   "id": "3cb490d7",
   "metadata": {},
   "outputs": [
    {
     "data": {
      "text/plain": [
       "'Number of features selected for randomforest Classifier: '"
      ]
     },
     "metadata": {},
     "output_type": "display_data"
    },
    {
     "name": "stdout",
     "output_type": "stream",
     "text": [
      "20\n"
     ]
    },
    {
     "data": {
      "text/plain": [
       "'Selected Features for randomforest Classifier are: '"
      ]
     },
     "metadata": {},
     "output_type": "display_data"
    },
    {
     "name": "stdout",
     "output_type": "stream",
     "text": [
      "[' n_non_stop_words' ' num_videos' ' num_keywords'\n",
      " ' data_channel_is_lifestyle' ' data_channel_is_entertainment'\n",
      " ' data_channel_is_bus' ' data_channel_is_socmed' ' data_channel_is_tech'\n",
      " ' data_channel_is_world' ' kw_min_min' ' kw_max_max' ' weekday_is_monday'\n",
      " ' weekday_is_tuesday' ' weekday_is_wednesday' ' weekday_is_thursday'\n",
      " ' weekday_is_friday' ' weekday_is_saturday' ' weekday_is_sunday'\n",
      " ' max_positive_polarity' ' abs_title_sentiment_polarity']\n"
     ]
    }
   ],
   "source": [
    "# Feature selection by RFECV for RandomForest Classifier\n",
    "estimator_RF = RandomForestClassifier(random_state=0)\n",
    "selector_RF = RFECV(estimator_RF, step=1, cv=5)\n",
    "selector_RF = selector_RF.fit(features_orig, popularity_encod)\n",
    "display(\"Number of features selected for randomforest Classifier: \")\n",
    "print (features_orig.columns.values[selector_RF.ranking_!=1].shape[0])\n",
    "display(\"Selected Features for randomforest Classifier are: \")\n",
    "print (features_orig.columns.values[selector_RF.ranking_!=1])\n",
    "feature_selec_RF = features_orig[features_orig.columns.values[selector_RF.ranking_==1]]"
   ]
  },
  {
   "cell_type": "markdown",
   "id": "fca01341",
   "metadata": {},
   "source": [
    "<b>Step-4:</b> Split the dataset \n",
    "<p><B>Description:</B> Here the dataset is divided into two equal halves for both the models</p>"
   ]
  },
  {
   "cell_type": "code",
   "execution_count": 9,
   "id": "8d7e8dc3",
   "metadata": {},
   "outputs": [
    {
     "name": "stdout",
     "output_type": "stream",
     "text": [
      "Logistic Regression\n",
      "Training set has 19822 samples.\n",
      "Testing set has 19822 samples.\n",
      "Random Forest Classifier\n",
      "Training set has 19822 samples.\n",
      "Testing set has 19822 samples.\n"
     ]
    }
   ],
   "source": [
    "# Split data into training and testing sets\n",
    "X_train_LR, X_test_LR, y_train_LR, y_test_LR = train_test_split(feature_selec_LR, popularity_encod, test_size = 0.5, random_state = 0)\n",
    "\n",
    "X_train_RF, X_test_RF, y_train_RF, y_test_RF = train_test_split(feature_selec_RF, popularity_encod, test_size = 0.5, random_state = 0)\n",
    "\n",
    "print(\"Logistic Regression\")\n",
    "print (\"Training set has {} samples.\".format(X_train_LR.shape[0]))\n",
    "print (\"Testing set has {} samples.\".format(X_test_LR.shape[0]))\n",
    "print(\"Random Forest Classifier\")\n",
    "print (\"Training set has {} samples.\".format(X_train_RF.shape[0]))\n",
    "print (\"Testing set has {} samples.\".format(X_test_RF.shape[0]))"
   ]
  },
  {
   "cell_type": "markdown",
   "id": "17b05e9c",
   "metadata": {},
   "source": [
    "<b>Step-5:</b> Modelling\n",
    "<p><B>Description:</B> Logistic Regression and Random Forest classifier is used with random parameters</p>"
   ]
  },
  {
   "cell_type": "code",
   "execution_count": 10,
   "id": "b8bd9b3e",
   "metadata": {},
   "outputs": [],
   "source": [
    "#Logistic Regression\n",
    "clf_LR = LogisticRegression(random_state=0,C=1.0,max_iter=500)\n",
    "size = X_train_LR.shape[0]\n",
    "clf_LR.fit(X_train_LR[:size], y_train_LR[:size])\n",
    "predictions_test_LR = clf_LR.predict(X_test_LR)\n",
    "\n",
    "#Random Forest Classifier\n",
    "clf_RF = RandomForestClassifier(random_state=0)\n",
    "size = X_train_RF.shape[0]\n",
    "clf_RF.fit(X_train_RF[:size], y_train_RF[:size])\n",
    "predictions_test_RF = clf_RF.predict(X_test_RF)"
   ]
  },
  {
   "cell_type": "code",
   "execution_count": 11,
   "id": "045b22d5",
   "metadata": {},
   "outputs": [
    {
     "data": {
      "text/plain": [
       "'RESULTS FOR LOGISTIC REGRESSION:'"
      ]
     },
     "metadata": {},
     "output_type": "display_data"
    },
    {
     "name": "stdout",
     "output_type": "stream",
     "text": [
      "Accuracy:\n",
      "0.6180002017959842\n",
      "F-score:\n",
      "0.6792884371029224\n",
      "AUC:\n",
      "0.6078593791606893\n"
     ]
    },
    {
     "data": {
      "text/plain": [
       "'RESULTS FOR RANDOM FOREST CLASSIFIER:'"
      ]
     },
     "metadata": {},
     "output_type": "display_data"
    },
    {
     "name": "stdout",
     "output_type": "stream",
     "text": [
      "Accuracy:\n",
      "0.6547270709312885\n",
      "F-score:\n",
      "0.6886543535620053\n",
      "AUC:\n",
      "0.6503325391241134\n"
     ]
    }
   ],
   "source": [
    "#RESULTS FOR LOGISTIC REGRESSION MODEL\n",
    "display(\"RESULTS FOR LOGISTIC REGRESSION:\")\n",
    "print(\"Accuracy:\")\n",
    "print(accuracy_score(y_test_LR,predictions_test_LR))\n",
    "print(\"F-score:\")\n",
    "print(fbeta_score(y_test_LR,predictions_test_LR,beta=1))\n",
    "print(\"AUC:\")\n",
    "print(roc_auc_score(y_test_LR,predictions_test_LR))\n",
    "\n",
    "#RESULTS FOR RANDOM FOREST CLASSIFIER\n",
    "display(\"RESULTS FOR RANDOM FOREST CLASSIFIER:\")\n",
    "print(\"Accuracy:\")\n",
    "print(accuracy_score(y_test_RF,predictions_test_RF))\n",
    "print(\"F-score:\")\n",
    "print(fbeta_score(y_test_RF,predictions_test_RF,beta=1))\n",
    "print(\"AUC:\")\n",
    "print(roc_auc_score(y_test_RF,predictions_test_RF))"
   ]
  },
  {
   "cell_type": "markdown",
   "id": "4eadea12",
   "metadata": {},
   "source": [
    "<b>Step-6:</b> Improve the model\n",
    "<p><B>Description:</B> Grid Search is used to improve the model performance by selecting the suitable parameters for each model(Hyper-parameter Tuning).</p>"
   ]
  },
  {
   "cell_type": "code",
   "execution_count": 12,
   "id": "f6748f12",
   "metadata": {},
   "outputs": [],
   "source": [
    "# Function to perform GridSearch and print the desired parameters\n",
    "def gridsearch(clf,parameters,X_train, y_train, X_test, y_test):\n",
    "    scorer = make_scorer(roc_auc_score)\n",
    "    grid_obj = GridSearchCV(clf, parameters, scoring=scorer)\n",
    "\n",
    "# Fit the grid search object to the training data to find the optimal parameters\n",
    "    grid_fit = grid_obj.fit(X_train, y_train)\n",
    "    best_clf = grid_fit.best_estimator_\n",
    "\n",
    "# Make predictions the model with test data\n",
    "    best_predictions = best_clf.predict(X_test)\n",
    "\n",
    "    print (clf.__class__.__name__)\n",
    "    print (\"\\nOptimized Model\\n------\")\n",
    "    print (\"Accuracy score: {:.4f}\".format(accuracy_score(y_test, best_predictions)))\n",
    "    print (\"F-score: {:.4f}\".format(fbeta_score(y_test, best_predictions, beta=1)))\n",
    "    print (\"AUC: {:.4f}\".format(roc_auc_score(y_test, best_predictions)))\n",
    "    \n",
    "# Best model\n",
    "    print (best_clf)"
   ]
  },
  {
   "cell_type": "code",
   "execution_count": 13,
   "id": "c0bca145",
   "metadata": {},
   "outputs": [],
   "source": [
    "# parameters for GridSearch \n",
    "parameters_RF = {\"n_estimators\": [10,20,50,100,250,500]}\n",
    "parameters_LR = {\"penalty\": ['l2'],\"C\": [0.1,0.5,1.0,2.0,2.5,5.0]}"
   ]
  },
  {
   "cell_type": "code",
   "execution_count": 15,
   "id": "49df9736",
   "metadata": {},
   "outputs": [
    {
     "name": "stdout",
     "output_type": "stream",
     "text": [
      "LogisticRegression\n",
      "\n",
      "Optimized Model\n",
      "------\n",
      "Accuracy score: 0.6180\n",
      "F-score: 0.6793\n",
      "AUC: 0.6079\n",
      "LogisticRegression(C=0.5, max_iter=500, random_state=0)\n",
      "\n",
      "\n",
      "RandomForestClassifier\n",
      "\n",
      "Optimized Model\n",
      "------\n",
      "Accuracy score: 0.6613\n",
      "F-score: 0.6964\n",
      "AUC: 0.6565\n",
      "RandomForestClassifier(n_estimators=500, random_state=0)\n"
     ]
    }
   ],
   "source": [
    "# Function call\n",
    "# Grid search for logistic regression\n",
    "gridsearch(clf_LR,parameters_LR,X_train_LR, y_train_LR, X_test_LR, y_test_LR)\n",
    "print(\"\\n\")\n",
    "# Grid search for RF\n",
    "gridsearch(clf_RF,parameters_RF,X_train_RF, y_train_RF, X_test_RF, y_test_RF)"
   ]
  },
  {
   "cell_type": "code",
   "execution_count": 16,
   "id": "6b7682a1",
   "metadata": {},
   "outputs": [],
   "source": [
    "# Best Model\n",
    "\n",
    "# Logistic Regression\n",
    "clf_LR = LogisticRegression(C=0.5, max_iter=500, random_state=0)\n",
    "size = X_train_LR.shape[0]\n",
    "clf_LR.fit(X_train_LR[:size], y_train_LR[:size])\n",
    "predictions_test_LR = clf_LR.predict(X_test_LR)\n",
    "\n",
    "# Random Forest Classifier\n",
    "clf_RF = RandomForestClassifier(n_estimators=500, random_state=0)\n",
    "size = X_train_RF.shape[0]\n",
    "clf_RF.fit(X_train_RF[:size], y_train_RF[:size])\n",
    "predictions_test_RF = clf_RF.predict(X_test_RF)"
   ]
  },
  {
   "cell_type": "code",
   "execution_count": 17,
   "id": "67069f2d",
   "metadata": {},
   "outputs": [
    {
     "data": {
      "text/plain": [
       "'RESULTS FOR LOGISTIC REGRESSION:'"
      ]
     },
     "metadata": {},
     "output_type": "display_data"
    },
    {
     "name": "stdout",
     "output_type": "stream",
     "text": [
      "Accuracy:\n",
      "0.6180002017959842\n",
      "F-score:\n",
      "0.6792884371029224\n",
      "AUC:\n",
      "0.6078593791606893\n"
     ]
    },
    {
     "data": {
      "text/plain": [
       "'RESULTS FOR RANDOM FOREST CLASSIFIER:'"
      ]
     },
     "metadata": {},
     "output_type": "display_data"
    },
    {
     "name": "stdout",
     "output_type": "stream",
     "text": [
      "Accuracy:\n",
      "0.6612854404197357\n",
      "F-score:\n",
      "0.6963914262458171\n",
      "AUC:\n",
      "0.6564687736032865\n"
     ]
    }
   ],
   "source": [
    "# Results for the best model\n",
    "# LOGISTIC REGRESSION\n",
    "display(\"RESULTS FOR LOGISTIC REGRESSION:\")\n",
    "print(\"Accuracy:\")\n",
    "print(accuracy_score(y_test_LR,predictions_test_LR))\n",
    "print(\"F-score:\")\n",
    "print(fbeta_score(y_test_LR,predictions_test_LR,beta=1))\n",
    "print(\"AUC:\")\n",
    "print(roc_auc_score(y_test_LR,predictions_test_LR))\n",
    "\n",
    "# RANDOM FOREST CLASSIFIER\n",
    "display(\"RESULTS FOR RANDOM FOREST CLASSIFIER:\")\n",
    "print(\"Accuracy:\")\n",
    "print(accuracy_score(y_test_RF,predictions_test_RF))\n",
    "print(\"F-score:\")\n",
    "print(fbeta_score(y_test_RF,predictions_test_RF,beta=1))\n",
    "print(\"AUC:\")\n",
    "print(roc_auc_score(y_test_RF,predictions_test_RF))"
   ]
  },
  {
   "cell_type": "markdown",
   "id": "35c56263",
   "metadata": {},
   "source": [
    "<h3>Confusion Matrix for the best model</h3>"
   ]
  },
  {
   "cell_type": "code",
   "execution_count": 18,
   "id": "382cb444",
   "metadata": {},
   "outputs": [
    {
     "data": {
      "text/plain": [
       "<AxesSubplot:>"
      ]
     },
     "execution_count": 18,
     "metadata": {},
     "output_type": "execute_result"
    },
    {
     "data": {
      "image/png": "[encoded data removed]",
      "text/plain": [
       "<Figure size 432x288 with 2 Axes>"
      ]
     },
     "metadata": {
      "needs_background": "light"
     },
     "output_type": "display_data"
    }
   ],
   "source": [
    "# Logistic Regression\n",
    "cf_matrix = confusion_matrix(y_train_LR, predictions_test_LR)\n",
    "sns.heatmap(cf_matrix/np.sum(cf_matrix), annot=True, fmt='.2%', cmap='Blues')"
   ]
  },
  {
   "cell_type": "code",
   "execution_count": 19,
   "id": "c67ea29e",
   "metadata": {},
   "outputs": [
    {
     "data": {
      "text/plain": [
       "<AxesSubplot:>"
      ]
     },
     "execution_count": 19,
     "metadata": {},
     "output_type": "execute_result"
    },
    {
     "data": {
      "image/png": "[encoded data removed]",
      "text/plain": [
       "<Figure size 432x288 with 2 Axes>"
      ]
     },
     "metadata": {
      "needs_background": "light"
     },
     "output_type": "display_data"
    }
   ],
   "source": [
    "# Random Forest Classifier\n",
    "cf_matrix = confusion_matrix(y_train_RF, predictions_test_RF)\n",
    "sns.heatmap(cf_matrix/np.sum(cf_matrix), annot=True, fmt='.2%', cmap='Blues')"
   ]
  },
  {
   "cell_type": "markdown",
   "id": "27620a1d",
   "metadata": {},
   "source": [
    "<h3>Conclusion:</h3> <p>Sklearn is used to implement the classification algorithms Logistic Regression and Random Forest. The model's hyperparameters are then fine-tuned using the grid search method. Three metrics are used to evaluate and compare the refined models (accuracy, F1-score, AUC). The Random Forest model with refined hyperparameters should be used in a general setting to solve these types of problems because it achieves a fairly good performance.</p>"
   ]
  }
 ],
 "metadata": {
  "kernelspec": {
   "display_name": "Python 3 (ipykernel)",
   "language": "python",
   "name": "python3"
  },
  "language_info": {
   "codemirror_mode": {
    "name": "ipython",
    "version": 3
   },
   "file_extension": ".py",
   "mimetype": "text/x-python",
   "name": "python",
   "nbconvert_exporter": "python",
   "pygments_lexer": "ipython3",
   "version": "3.9.7"
  }
 },
 "nbformat": 4,
 "nbformat_minor": 5
}
